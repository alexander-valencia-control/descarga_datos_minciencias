{
 "cells": [
  {
   "cell_type": "code",
   "execution_count": 1,
   "metadata": {},
   "outputs": [],
   "source": [
    "import pandas as pd \n",
    "import numpy as np\n",
    "import itertools\n",
    "import asyncio\n",
    "from async_class import AsyncClass\n",
    "from datos_cienciometricos import main, convert2df\n",
    "#from datos_cienciometricos import *\n",
    "# Informacion para descarga \n",
    "links = ['https://scienti.minciencias.gov.co/gruplac/jsp/visualiza/visualizagr.jsp?nro=00000000000450',\n",
    "         'https://scienti.minciencias.gov.co/gruplac/jsp/visualiza/visualizagr.jsp?nro=00000000013952']\n",
    "perfiles = ['https://scienti.minciencias.gov.co/gruplac/jsp/Medicion/graficas/verPerfiles.jsp?id_convocatoria=21&nroIdGrupo=00000000000450', \n",
    "            'https://scienti.minciencias.gov.co/gruplac/jsp/Medicion/graficas/verPerfiles.jsp?id_convocatoria=21&nroIdGrupo=00000000013952']\n",
    "grupos = ['Biotecnologia vegetal', \n",
    "          'Grupo de investigación en agricultura biológica']"
   ]
  },
  {
   "cell_type": "markdown",
   "metadata": {},
   "source": [
    "# Libreria para descarga de los datos de minciencias \n",
    "* Para descargar los datos se requiere pasar las siguientes variables de manera obligatoria: \n",
    "\n",
    "\n",
    "1)  Lista de las url de los grupos de investigacion \n",
    "\n",
    "\n",
    "* Para descargar la informacion adicional de los integrantes se le asigna el valor 'True' a la variable 'download_researcher'"
   ]
  },
  {
   "cell_type": "code",
   "execution_count": 11,
   "metadata": {},
   "outputs": [
    {
     "name": "stdout",
     "output_type": "stream",
     "text": [
      "Datos de los grupos 0 0 10 2 ----------------\n",
      "Datos de investigadores 0 0 10 43 ----------------\n",
      "Datos de investigadores 0 10 20 43 ----------------\n",
      "Datos de investigadores 0 20 30 43 ----------------\n",
      "Datos de investigadores 0 30 40 43 ----------------\n",
      "Datos de investigadores 0 40 43 43 ----------------\n"
     ]
    }
   ],
   "source": [
    "val = asyncio.run(main(links, download_researcher=True))"
   ]
  },
  {
   "cell_type": "code",
   "execution_count": 23,
   "metadata": {},
   "outputs": [],
   "source": [
    "info_basica  = val.info_basica  # Informacion basica de los grupos \n",
    "articulos    = val.articulos    # Articulos de los grupos \n",
    "libros       = val.libros       # Libros de los grupos \n",
    "capitulos    = val.capitulos    # Capitulos de los grupos \n",
    "softwares    = val.softwares    # Softwares de los grupos \n",
    "Innovaciones = val.Innovaciones # Innovaciones de los grupos \n",
    "integrantes  = val.integrantes  # Informacion de los integrantes \n",
    "articulos_publindex_scimago = val.articulos_publindex_scimago  # Informacion de los articulos relacionados con publindex \n",
    "perfil_grupos               = val.profile_data                 # Informacion de los perfiles de los grupos "
   ]
  },
  {
   "cell_type": "code",
   "execution_count": 30,
   "metadata": {},
   "outputs": [
    {
     "data": {
      "text/plain": [
       "dict_keys(['urls', 'group_data', 'info_basica', 'articulos', 'libros', 'capitulos', 'softwares', 'Innovaciones', 'integrantes', 'profile_data', 'articulos_publindex_scimago', 'trabajos_grado'])"
      ]
     },
     "execution_count": 30,
     "metadata": {},
     "output_type": "execute_result"
    }
   ],
   "source": [
    "val.__dict__.keys()"
   ]
  },
  {
   "cell_type": "code",
   "execution_count": 4,
   "metadata": {},
   "outputs": [
    {
     "name": "stderr",
     "output_type": "stream",
     "text": [
      "c:\\Users\\luisalexander\\Desktop\\Paquete datos scienciometricos - 3BIOS\\datos_cienciometricos.py:839: FutureWarning: In a future version of pandas all arguments of DataFrame.drop except for the argument 'labels' will be keyword-only\n",
      "  scimago_merge.drop(['categoria_x','categoria_y','revista_y'], 1, inplace=True)\n",
      "c:\\Users\\luisalexander\\Desktop\\Paquete datos scienciometricos - 3BIOS\\datos_cienciometricos.py:854: FutureWarning: In a future version of pandas all arguments of DataFrame.drop except for the argument 'labels' will be keyword-only\n",
      "  merge.drop(['revista_x','revista','categoria'], 1, inplace=True)\n"
     ]
    }
   ],
   "source": [
    "# Scimago y publindex  para los articulos \n",
    "scimago     = pd.read_csv('scimago_categories.csv', encoding='latin-1', index_col=0)\n",
    "publindex_h = pd.read_csv('homologadas_publindex.csv', encoding='latin-1', index_col=0)\n",
    "publindex_n = pd.read_csv('national_publindex.csv', encoding='latin-1', index_col=0)\n",
    "articulos_publindex_scimago = val.relate_publindex_scimago(scimago, publindex_h, publindex_n)\n"
   ]
  },
  {
   "cell_type": "code",
   "execution_count": null,
   "metadata": {},
   "outputs": [],
   "source": []
  }
 ],
 "metadata": {
  "kernelspec": {
   "display_name": "Python 3.7.9 64-bit (windows store)",
   "language": "python",
   "name": "python3"
  },
  "language_info": {
   "codemirror_mode": {
    "name": "ipython",
    "version": 3
   },
   "file_extension": ".py",
   "mimetype": "text/x-python",
   "name": "python",
   "nbconvert_exporter": "python",
   "pygments_lexer": "ipython3",
   "version": "3.7.9"
  },
  "orig_nbformat": 4,
  "vscode": {
   "interpreter": {
    "hash": "251ef5d26429aee0de109e14be881d0ad6c9974a373b0dc5fde314dbbeb4c509"
   }
  }
 },
 "nbformat": 4,
 "nbformat_minor": 2
}
